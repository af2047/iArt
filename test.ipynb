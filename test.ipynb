{
 "cells": [
  {
   "cell_type": "code",
   "execution_count": null,
   "metadata": {},
   "outputs": [],
   "source": [
    "# Probar request GET\n",
    "# Nota: sólo funciona si hemos ejecutado uvicorn con --host 0.0.0.0 ó --host 127.0.0.1\n",
    "import urllib3\n",
    "http = urllib3.PoolManager()\n",
    "r = http.request('GET', 'localhost:8000/')\n",
    "\n",
    "r.status"
   ]
  },
  {
   "cell_type": "code",
   "execution_count": null,
   "metadata": {},
   "outputs": [],
   "source": [
    "# Probar request POST con imagen\n",
    "data = {'message': 'Hello, world!', 'enctype': \"multipart/form-data\"}\n",
    "files = {'file': open('images/minigato.jpg', 'rb')}\n",
    "r = httpx.post(\"http://127.0.0.1:8000/img2txt/\", data=data, files=files)"
   ]
  }
 ],
 "metadata": {
  "language_info": {
   "name": "python"
  },
  "orig_nbformat": 4
 },
 "nbformat": 4,
 "nbformat_minor": 2
}
