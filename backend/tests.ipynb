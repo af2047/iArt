{
 "cells": [
  {
   "cell_type": "code",
   "execution_count": null,
   "metadata": {},
   "outputs": [],
   "source": [
    "# Probar modelos\n",
    "import models\n",
    "models.blend_images_model(\"images/minigato.jpg\", \"paintings/abstract/abstract1.jpg\")"
   ]
  },
  {
   "cell_type": "code",
   "execution_count": 1,
   "metadata": {},
   "outputs": [
    {
     "data": {
      "text/plain": [
       "b'{\"message\":\"Hola mundo\"}'"
      ]
     },
     "execution_count": 1,
     "metadata": {},
     "output_type": "execute_result"
    }
   ],
   "source": [
    "# Probar request GET\n",
    "# Nota: sólo funciona si hemos ejecutado uvicorn con --host 0.0.0.0 ó --host 127.0.0.1\n",
    "import httpx\n",
    "r = httpx.get('http://127.0.0.1:8000/')\n",
    "r.content"
   ]
  },
  {
   "cell_type": "code",
   "execution_count": 7,
   "metadata": {},
   "outputs": [
    {
     "data": {
      "text/plain": [
       "{'message': 'Successfully uploaded minigato.jpg',\n",
       " 'output': '\\n\\na cat sitting on a bed next to a remote control, a photocopy by Nyuju Stumpy Brown, polycount, optical illusion, sharp focus, polycount, handsome'}"
      ]
     },
     "execution_count": 7,
     "metadata": {},
     "output_type": "execute_result"
    }
   ],
   "source": [
    "# Probar modelo img2txt\n",
    "# Tarda unos 15-30 segundos\n",
    "import httpx\n",
    "files = {'file': ('minigato.jpg', open('images/minigato.jpg', 'rb'), 'multipart/form-data')}\n",
    "r = httpx.post(\"http://127.0.0.1:8000/img2txt/\", files=files, timeout=60)\n",
    "r.json()"
   ]
  },
  {
   "cell_type": "code",
   "execution_count": null,
   "metadata": {},
   "outputs": [],
   "source": [
    "# Probar modelo blend_images\n",
    "import httpx\n",
    "files = [('content_image', ('minigato.jpg', open('images/minigato.jpg', 'rb'), 'image/jpg')),\n",
    "                      ('style_image', ('ex1.jpg', open('images/ex1.jpg', 'rb'), 'image/jpg'))]\n",
    "r = httpx.post(\"http://127.0.0.1:8000/blend_images/\", files=files, timeout=60)"
   ]
  },
  {
   "cell_type": "code",
   "execution_count": 25,
   "metadata": {},
   "outputs": [],
   "source": [
    "import httpx\n",
    "files = [('content_image', ('minigato.jpg', open('images/minigato.jpg', 'rb'), 'image/jpg')),\n",
    "                      ('style_image', ('ex1.jpg', open('images/ex1.jpg', 'rb'), 'image/jpg'))]\n",
    "r = httpx.post(\"http://127.0.0.1:8000/blend_images/\", files=files, timeout=60)"
   ]
  },
  {
   "cell_type": "code",
   "execution_count": 26,
   "metadata": {},
   "outputs": [],
   "source": [
    "import httpx\n",
    "files = {'file': ('minigato.jpg', open('images/minigato.jpg', 'rb'), 'multipart/form-data')}\n",
    "r = httpx.post(\"http://127.0.0.1:8000/blend_image_with/renaissance\", files=files, timeout=60)\n",
    "r.content"
   ]
  }
 ],
 "metadata": {
  "kernelspec": {
   "display_name": "Python 3",
   "language": "python",
   "name": "python3"
  },
  "language_info": {
   "codemirror_mode": {
    "name": "ipython",
    "version": 3
   },
   "file_extension": ".py",
   "mimetype": "text/x-python",
   "name": "python",
   "nbconvert_exporter": "python",
   "pygments_lexer": "ipython3",
   "version": "3.10.7"
  },
  "orig_nbformat": 4,
  "vscode": {
   "interpreter": {
    "hash": "916dbcbb3f70747c44a77c7bcd40155683ae19c65e1c03b4aa3499c5328201f1"
   }
  }
 },
 "nbformat": 4,
 "nbformat_minor": 2
}
