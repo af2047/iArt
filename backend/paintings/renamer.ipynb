{
 "cells": [
  {
   "cell_type": "code",
   "execution_count": 1,
   "metadata": {},
   "outputs": [
    {
     "data": {
      "text/plain": [
       "['romanticism',\n",
       " 'expressionism',\n",
       " 'renamer.ipynb',\n",
       " 'renaissance',\n",
       " 'realism',\n",
       " 'abstract',\n",
       " 'impressionism',\n",
       " 'color_field_painting',\n",
       " 'cubism']"
      ]
     },
     "execution_count": 1,
     "metadata": {},
     "output_type": "execute_result"
    }
   ],
   "source": [
    "import os\n",
    "os.listdir()"
   ]
  },
  {
   "cell_type": "code",
   "execution_count": 3,
   "metadata": {},
   "outputs": [
    {
     "name": "stdout",
     "output_type": "stream",
     "text": [
      "0 cf2.jpg\n",
      "1 cf5.jpg\n",
      "2 cf3.jpg\n",
      "3 cf1.jpg\n",
      "4 cf4.jpg\n",
      "0 im1.jpg\n",
      "1 im3.jpg\n",
      "2 im4.jpg\n",
      "3 im5.jpg\n",
      "4 im2.jpg\n",
      "0 cu3.jpg\n",
      "1 cu1.jpg\n",
      "2 cu2.jpg\n",
      "3 cu5.jpg\n",
      "4 cu4.jpg\n"
     ]
    }
   ],
   "source": [
    "for dir in ['romanticism',\n",
    " 'expressionism',\n",
    " 'renaissance',\n",
    " 'realism',\n",
    " 'abstract',\n",
    " 'color_field',\n",
    " 'impressionism',\n",
    " 'cubism']:\n",
    " for n, painting in enumerate(os.listdir(dir)):\n",
    "    print(n, painting)\n",
    "    os.rename(f\"{dir}/{painting}\", f\"{dir}/{dir}{n+1}.jpg\")\n"
   ]
  }
 ],
 "metadata": {
  "kernelspec": {
   "display_name": "Python 3",
   "language": "python",
   "name": "python3"
  },
  "language_info": {
   "codemirror_mode": {
    "name": "ipython",
    "version": 3
   },
   "file_extension": ".py",
   "mimetype": "text/x-python",
   "name": "python",
   "nbconvert_exporter": "python",
   "pygments_lexer": "ipython3",
   "version": "3.10.7"
  },
  "orig_nbformat": 4,
  "vscode": {
   "interpreter": {
    "hash": "916dbcbb3f70747c44a77c7bcd40155683ae19c65e1c03b4aa3499c5328201f1"
   }
  }
 },
 "nbformat": 4,
 "nbformat_minor": 2
}
