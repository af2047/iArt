{
 "cells": [
  {
   "cell_type": "code",
   "execution_count": 2,
   "metadata": {},
   "outputs": [
    {
     "data": {
      "text/plain": [
       "200"
      ]
     },
     "execution_count": 2,
     "metadata": {},
     "output_type": "execute_result"
    }
   ],
   "source": [
    "# Probar request GET\n",
    "# Nota: sólo funciona si hemos ejecutado uvicorn con --host 0.0.0.0 ó --host 127.0.0.1\n",
    "import urllib3\n",
    "http = urllib3.PoolManager()\n",
    "r = http.request('GET', 'https://webhook.site/6743b964-11e9-4ee2-8110-a32b62478f20')\n",
    "\n",
    "r.status"
   ]
  },
  {
   "cell_type": "code",
   "execution_count": 8,
   "metadata": {},
   "outputs": [
    {
     "data": {
      "text/plain": [
       "200"
      ]
     },
     "execution_count": 8,
     "metadata": {},
     "output_type": "execute_result"
    }
   ],
   "source": [
    "# Probar request GET\n",
    "# Nota: sólo funciona si hemos ejecutado uvicorn con --host 0.0.0.0 ó --host 127.0.0.1\n",
    "import urllib3\n",
    "http = urllib3.PoolManager()\n",
    "r = http.request('GET', '127.0.0.1:8000/')\n",
    "\n",
    "r.status"
   ]
  },
  {
   "cell_type": "code",
   "execution_count": 28,
   "metadata": {},
   "outputs": [
    {
     "data": {
      "text/plain": [
       "b'{\"detail\":[{\"loc\":[\"body\",\"file\"],\"msg\":\"field required\",\"type\":\"value_error.missing\"}]}'"
      ]
     },
     "execution_count": 28,
     "metadata": {},
     "output_type": "execute_result"
    }
   ],
   "source": [
    "# Probar request POST con imagen\n",
    "# Tarda unos 15-30 segundos\n",
    "import httpx\n",
    "#data = {'message': 'Hello, world!', 'enctype': \"multipart/form-data\"}\n",
    "files = {'file': ('minigato.jpg', open('images/minigato.jpg', 'rb'), 'multipart/form-data')}\n",
    "#files = {'file': open('images/minigato.jpg', 'rb')}\n",
    "r = httpx.post(\"http://127.0.0.1:8000/img2txt/\", files=files, timeout=60)\n",
    "r.content"
   ]
  },
  {
   "cell_type": "code",
   "execution_count": 27,
   "metadata": {},
   "outputs": [
    {
     "data": {
      "text/plain": [
       "b'{\"detail\":[{\"loc\":[\"body\",\"file\"],\"msg\":\"Expected UploadFile, received: <class \\'str\\'>\",\"type\":\"value_error\"}]}'"
      ]
     },
     "execution_count": 27,
     "metadata": {},
     "output_type": "execute_result"
    }
   ],
   "source": [
    "import requests\n",
    "\n",
    "# create the form data body\n",
    "form_data = {'file': ('image.jpg', open('images/minigato.jpg', 'rb'))}\n",
    "\n",
    "# send the POST request with the form data body\n",
    "response = requests.post('http://127.0.0.1:8000/img2txt/', data=form_data)\n",
    "response._content"
   ]
  },
  {
   "cell_type": "code",
   "execution_count": 2,
   "metadata": {},
   "outputs": [],
   "source": [
    "# Probar modelo\n",
    "import os\n",
    "import replicate\n",
    "\n",
    "os.environ['REPLICATE_API_TOKEN'] = '1d00c4a2874d2acdf17b8092205ee974142f6763'\n",
    "model = replicate.models.get('methexis-inc/img2prompt')\n",
    "version = model.versions.get('50adaf2d3ad20a6f911a8a9e3ccf777b263b8596fbd2c8fc26e8888f8a0edbb5')\n",
    "\n",
    "# Tarda unos 10 segundos\n",
    "output = version.predict(image=open(\"images/minigato.jpg\", 'rb'))"
   ]
  }
 ],
 "metadata": {
  "kernelspec": {
   "display_name": "Python 3",
   "language": "python",
   "name": "python3"
  },
  "language_info": {
   "codemirror_mode": {
    "name": "ipython",
    "version": 3
   },
   "file_extension": ".py",
   "mimetype": "text/x-python",
   "name": "python",
   "nbconvert_exporter": "python",
   "pygments_lexer": "ipython3",
   "version": "3.10.7"
  },
  "orig_nbformat": 4,
  "vscode": {
   "interpreter": {
    "hash": "916dbcbb3f70747c44a77c7bcd40155683ae19c65e1c03b4aa3499c5328201f1"
   }
  }
 },
 "nbformat": 4,
 "nbformat_minor": 2
}
