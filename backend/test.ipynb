{
 "cells": [
  {
   "cell_type": "code",
   "execution_count": null,
   "metadata": {},
   "outputs": [],
   "source": [
    "# Probar request GET\n",
    "# Nota: sólo funciona si hemos ejecutado uvicorn con --host 0.0.0.0 ó --host 127.0.0.1\n",
    "import urllib3\n",
    "http = urllib3.PoolManager()\n",
    "r = http.request('GET', 'localhost:8000/')\n",
    "\n",
    "r.status"
   ]
  },
  {
   "cell_type": "code",
   "execution_count": null,
   "metadata": {},
   "outputs": [],
   "source": [
    "# Probar request POST con imagen\n",
    "# Tarda unos 15 segundos\n",
    "import httpx\n",
    "data = {'message': 'Hello, world!', 'enctype': \"multipart/form-data\"}\n",
    "files = {'file': open('images/minigato.jpg', 'rb')}\n",
    "r = httpx.post(\"http://127.0.0.1:8000/img2txt/\", data=data, files=files, timeout=60)\n",
    "r.content"
   ]
  },
  {
   "cell_type": "code",
   "execution_count": null,
   "metadata": {},
   "outputs": [],
   "source": [
    "# Probar modelo\n",
    "import os\n",
    "import replicate\n",
    "\n",
    "os.environ['REPLICATE_API_TOKEN'] = '1d00c4a2874d2acdf17b8092205ee974142f6763'\n",
    "model = replicate.models.get('methexis-inc/img2prompt')\n",
    "version = model.versions.get('50adaf2d3ad20a6f911a8a9e3ccf777b263b8596fbd2c8fc26e8888f8a0edbb5')\n",
    "\n",
    "# Tarda unos 10 segundos\n",
    "output = version.predict(image=open(\"minigato.jpg\", 'rb'))"
   ]
  }
 ],
 "metadata": {
  "language_info": {
   "name": "python"
  },
  "orig_nbformat": 4
 },
 "nbformat": 4,
 "nbformat_minor": 2
}
